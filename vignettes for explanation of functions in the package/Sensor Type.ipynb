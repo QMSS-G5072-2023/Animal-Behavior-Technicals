{
 "cells": [
  {
   "cell_type": "code",
   "execution_count": 25,
   "id": "c29c3086",
   "metadata": {},
   "outputs": [],
   "source": [
    "import animal_behavior_technicals"
   ]
  },
  {
   "cell_type": "code",
   "execution_count": 26,
   "id": "0577a647",
   "metadata": {},
   "outputs": [
    {
     "data": {
      "text/plain": [
       "'C:\\\\Users\\\\arush\\\\animal_behavior_technicals'"
      ]
     },
     "execution_count": 26,
     "metadata": {},
     "output_type": "execute_result"
    }
   ],
   "source": [
    "import os\n",
    "os.getcwd()"
   ]
  },
  {
   "cell_type": "code",
   "execution_count": 27,
   "id": "6a264872",
   "metadata": {},
   "outputs": [],
   "source": [
    "os.chdir('C:\\\\Users\\\\arush\\\\animal_behavior_technicals')"
   ]
  },
  {
   "cell_type": "markdown",
   "id": "ea0bdc74",
   "metadata": {},
   "source": [
    "## Using the created functions:"
   ]
  },
  {
   "cell_type": "markdown",
   "id": "51367967",
   "metadata": {},
   "source": [
    "The below function uses the sensor Id's to determine the output of the function. (It needs the sensor_type_id as its input)\n",
    "Different types of sensors have different sensor_type_id 's. These were not part of the data. GPS being an extremely common sensor_type,this function could be used for analysis"
   ]
  },
  {
   "cell_type": "code",
   "execution_count": 28,
   "id": "cf45b393",
   "metadata": {},
   "outputs": [
    {
     "data": {
      "text/plain": [
       "'GPS'"
      ]
     },
     "execution_count": 28,
     "metadata": {},
     "output_type": "execute_result"
    }
   ],
   "source": [
    "from animal_behavior_technicals.utils import get_sensor_type\n",
    "get_sensor_type(653)"
   ]
  },
  {
   "cell_type": "code",
   "execution_count": 29,
   "id": "286a5621",
   "metadata": {},
   "outputs": [
    {
     "data": {
      "text/plain": [
       "'Acceleration'"
      ]
     },
     "execution_count": 29,
     "metadata": {},
     "output_type": "execute_result"
    }
   ],
   "source": [
    "from animal_behavior_technicals.utils import get_sensor_type\n",
    "get_sensor_type(2365683)"
   ]
  },
  {
   "cell_type": "code",
   "execution_count": 30,
   "id": "768f89c5",
   "metadata": {},
   "outputs": [
    {
     "data": {
      "text/plain": [
       "'Unknown'"
      ]
     },
     "execution_count": 30,
     "metadata": {},
     "output_type": "execute_result"
    }
   ],
   "source": [
    "from animal_behavior_technicals.utils import get_sensor_type\n",
    "get_sensor_type(574)"
   ]
  },
  {
   "cell_type": "code",
   "execution_count": 33,
   "id": "11dfd534",
   "metadata": {},
   "outputs": [],
   "source": [
    "import tests_anibeh"
   ]
  },
  {
   "cell_type": "code",
   "execution_count": 32,
   "id": "adc47050",
   "metadata": {},
   "outputs": [
    {
     "data": {
      "text/plain": [
       "<module 'tests_anibeh' from 'C:\\\\Users\\\\arush\\\\animal_behavior_technicals\\\\tests_anibeh\\\\__init__.py'>"
      ]
     },
     "execution_count": 32,
     "metadata": {},
     "output_type": "execute_result"
    }
   ],
   "source": [
    "tests_anibeh"
   ]
  },
  {
   "cell_type": "markdown",
   "id": "fc8c631e",
   "metadata": {},
   "source": [
    "test_get_sensor_type() is the corresponding test for this function. The tests file can be run entirely to obtain the output"
   ]
  }
 ],
 "metadata": {
  "kernelspec": {
   "display_name": "Python 3 (ipykernel)",
   "language": "python",
   "name": "python3"
  },
  "language_info": {
   "codemirror_mode": {
    "name": "ipython",
    "version": 3
   },
   "file_extension": ".py",
   "mimetype": "text/x-python",
   "name": "python",
   "nbconvert_exporter": "python",
   "pygments_lexer": "ipython3",
   "version": "3.7.4"
  }
 },
 "nbformat": 4,
 "nbformat_minor": 5
}
