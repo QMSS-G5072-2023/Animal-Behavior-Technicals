{
 "cells": [
  {
   "cell_type": "code",
   "execution_count": 6,
   "id": "aca726a1",
   "metadata": {},
   "outputs": [],
   "source": [
    "import animal_behavior_technicals"
   ]
  },
  {
   "cell_type": "code",
   "execution_count": 7,
   "id": "768f5376",
   "metadata": {},
   "outputs": [
    {
     "data": {
      "text/plain": [
       "'C:\\\\Users\\\\arush'"
      ]
     },
     "execution_count": 7,
     "metadata": {},
     "output_type": "execute_result"
    }
   ],
   "source": [
    "import os\n",
    "os.getcwd()"
   ]
  },
  {
   "cell_type": "code",
   "execution_count": 8,
   "id": "3c9f4d4a",
   "metadata": {},
   "outputs": [],
   "source": [
    "os.chdir('C:\\\\Users\\\\arush\\\\animal_behavior_technicals')"
   ]
  },
  {
   "cell_type": "markdown",
   "id": "f23b24a6",
   "metadata": {},
   "source": [
    "## Using the created functions:"
   ]
  },
  {
   "cell_type": "markdown",
   "id": "90255e8d",
   "metadata": {},
   "source": [
    "The below function uses the location_lat attribute to determine the output of the function. (It needs the location_lat as its input)\n",
    "\n",
    "Location_lat measures the geographic longitude of the location as estimated by the sensor. Latitudes have been divided into three categories to understand climate zones. Latitudes -30 to 30 represent the tropical zone, latitudes -30 to -60- and 30 to 60 represent the temperate zone and latitudes -60 to -90 and 60 to 90 represent the polar zones.\n",
    "\n",
    "Entity described: event\n",
    "\n",
    "URI: http://vocab.nerc.ac.uk/collection/MVB/current/MVB000145"
   ]
  },
  {
   "cell_type": "code",
   "execution_count": 9,
   "id": "74d2ecce",
   "metadata": {},
   "outputs": [
    {
     "data": {
      "text/plain": [
       "'Tropical'"
      ]
     },
     "execution_count": 9,
     "metadata": {},
     "output_type": "execute_result"
    }
   ],
   "source": [
    "from animal_behavior_technicals.utils import get_climate_zone\n",
    "get_climate_zone(-3)"
   ]
  },
  {
   "cell_type": "code",
   "execution_count": 10,
   "id": "ec99dae1",
   "metadata": {},
   "outputs": [
    {
     "data": {
      "text/plain": [
       "'Polar'"
      ]
     },
     "execution_count": 10,
     "metadata": {},
     "output_type": "execute_result"
    }
   ],
   "source": [
    "from animal_behavior_technicals.utils import get_climate_zone\n",
    "get_climate_zone(-67)"
   ]
  },
  {
   "cell_type": "code",
   "execution_count": 11,
   "id": "9e70e611",
   "metadata": {},
   "outputs": [
    {
     "data": {
      "text/plain": [
       "'Temperate'"
      ]
     },
     "execution_count": 11,
     "metadata": {},
     "output_type": "execute_result"
    }
   ],
   "source": [
    "from animal_behavior_technicals.utils import get_climate_zone\n",
    "get_climate_zone(53)"
   ]
  },
  {
   "cell_type": "code",
   "execution_count": 12,
   "id": "0b0cd3f6",
   "metadata": {},
   "outputs": [],
   "source": [
    "import tests_anibeh"
   ]
  },
  {
   "cell_type": "markdown",
   "id": "0f6e2151",
   "metadata": {},
   "source": [
    "test_get_climate_zone() is the corresponding test for this function. The tests file can be run entirely to obtain the output"
   ]
  }
 ],
 "metadata": {
  "kernelspec": {
   "display_name": "Python 3 (ipykernel)",
   "language": "python",
   "name": "python3"
  },
  "language_info": {
   "codemirror_mode": {
    "name": "ipython",
    "version": 3
   },
   "file_extension": ".py",
   "mimetype": "text/x-python",
   "name": "python",
   "nbconvert_exporter": "python",
   "pygments_lexer": "ipython3",
   "version": "3.7.4"
  }
 },
 "nbformat": 4,
 "nbformat_minor": 5
}
