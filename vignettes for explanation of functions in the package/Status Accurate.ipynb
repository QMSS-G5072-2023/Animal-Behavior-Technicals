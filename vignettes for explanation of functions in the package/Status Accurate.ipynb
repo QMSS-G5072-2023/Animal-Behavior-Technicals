{
 "cells": [
  {
   "cell_type": "code",
   "execution_count": 6,
   "id": "593b00e6",
   "metadata": {},
   "outputs": [],
   "source": [
    "import animal_behavior_technicals"
   ]
  },
  {
   "cell_type": "markdown",
   "id": "a7c439f1",
   "metadata": {},
   "source": [
    "## Using the created functions:"
   ]
  },
  {
   "cell_type": "markdown",
   "id": "524546cb",
   "metadata": {},
   "source": [
    "The eobs record status, from e-obs GPS/accelerometer tags (definition from e-obs Digital Telemetry Manual for DataDecoder Software, 2010)has values \n",
    "\n",
    "A = position and time within accuracy masks;\n",
    "B = only time of week and weeknumber valid;\n",
    "C = only weeknumber valid;\n",
    "D = no valid data.\n",
    "\n",
    "This helps in knowing for certain if the eobs status is accurate\n",
    "\n",
    "URI: http://vocab.nerc.ac.uk/collection/MVB/current/MVB000098"
   ]
  },
  {
   "cell_type": "code",
   "execution_count": 26,
   "id": "740f128a",
   "metadata": {},
   "outputs": [
    {
     "data": {
      "text/plain": [
       "False"
      ]
     },
     "execution_count": 26,
     "metadata": {},
     "output_type": "execute_result"
    }
   ],
   "source": [
    "from animal_behavior_technicals.utils import is_status_accurate\n",
    "is_status_accurate('B')"
   ]
  },
  {
   "cell_type": "code",
   "execution_count": 33,
   "id": "e96a3c01",
   "metadata": {},
   "outputs": [
    {
     "data": {
      "text/plain": [
       "True"
      ]
     },
     "execution_count": 33,
     "metadata": {},
     "output_type": "execute_result"
    }
   ],
   "source": [
    "from animal_behavior_technicals.utils import is_status_accurate\n",
    "is_status_accurate('A')"
   ]
  },
  {
   "cell_type": "markdown",
   "id": "aaa8e9d1",
   "metadata": {},
   "source": [
    "In the above case an answer of True indicates that the eobs status in actually accurate"
   ]
  },
  {
   "cell_type": "code",
   "execution_count": 22,
   "id": "359a28c8",
   "metadata": {},
   "outputs": [
    {
     "data": {
      "text/plain": [
       "<module 'tests_anibeh' from 'C:\\\\Users\\\\arush\\\\animal_behavior_technicals\\\\tests_anibeh\\\\__init__.py'>"
      ]
     },
     "execution_count": 22,
     "metadata": {},
     "output_type": "execute_result"
    }
   ],
   "source": [
    "import tests_anibeh"
   ]
  },
  {
   "cell_type": "code",
   "execution_count": 24,
   "id": "d149abb8",
   "metadata": {},
   "outputs": [],
   "source": [
    "from tests_anibeh.test_utils import test_is_status_accurate"
   ]
  },
  {
   "cell_type": "markdown",
   "id": "22cccf36",
   "metadata": {},
   "source": [
    "test_is_status_accurate() is the corresponding test for this function. The tests file can be run entirely to obtain the output"
   ]
  },
  {
   "cell_type": "code",
   "execution_count": null,
   "id": "1244ed4c",
   "metadata": {},
   "outputs": [],
   "source": []
  }
 ],
 "metadata": {
  "kernelspec": {
   "display_name": "Python 3 (ipykernel)",
   "language": "python",
   "name": "python3"
  },
  "language_info": {
   "codemirror_mode": {
    "name": "ipython",
    "version": 3
   },
   "file_extension": ".py",
   "mimetype": "text/x-python",
   "name": "python",
   "nbconvert_exporter": "python",
   "pygments_lexer": "ipython3",
   "version": "3.7.4"
  }
 },
 "nbformat": 4,
 "nbformat_minor": 5
}
