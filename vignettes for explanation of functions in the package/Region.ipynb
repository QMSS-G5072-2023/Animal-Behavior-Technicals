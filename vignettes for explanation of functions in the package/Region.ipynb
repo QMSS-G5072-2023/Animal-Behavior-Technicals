{
 "cells": [
  {
   "cell_type": "code",
   "execution_count": 12,
   "id": "9ddc6666",
   "metadata": {},
   "outputs": [
    {
     "data": {
      "text/plain": [
       "'C:\\\\Users\\\\arush'"
      ]
     },
     "execution_count": 12,
     "metadata": {},
     "output_type": "execute_result"
    }
   ],
   "source": [
    "import os\n",
    "os.getcwd()"
   ]
  },
  {
   "cell_type": "code",
   "execution_count": 13,
   "id": "f504bade",
   "metadata": {},
   "outputs": [],
   "source": [
    "os.chdir('C:\\\\Users\\\\arush\\\\animal_behavior_technicals')"
   ]
  },
  {
   "cell_type": "markdown",
   "id": "6389a53b",
   "metadata": {},
   "source": [
    "## Using the created functions:"
   ]
  },
  {
   "cell_type": "markdown",
   "id": "4c4ddc45",
   "metadata": {},
   "source": [
    "The below function uses the location_long attribute to determine the output of the function. (It needs the location_long as its input)\n",
    "\n",
    "Location_long measures the geographic longitude of the location as estimated by the sensor. Positive values are east of the Greenwich Meridian, negative values are west of it.\n",
    "\n",
    "Entity described: event\n",
    "\n",
    "URI: http://vocab.nerc.ac.uk/collection/MVB/current/MVB000146"
   ]
  },
  {
   "cell_type": "code",
   "execution_count": 14,
   "id": "14c4ed58",
   "metadata": {},
   "outputs": [
    {
     "data": {
      "text/plain": [
       "'East'"
      ]
     },
     "execution_count": 14,
     "metadata": {},
     "output_type": "execute_result"
    }
   ],
   "source": [
    "from animal_behavior_technicals.utils import get_region\n",
    "get_region(51)"
   ]
  },
  {
   "cell_type": "code",
   "execution_count": 15,
   "id": "63fe2fe6",
   "metadata": {},
   "outputs": [
    {
     "data": {
      "text/plain": [
       "'West'"
      ]
     },
     "execution_count": 15,
     "metadata": {},
     "output_type": "execute_result"
    }
   ],
   "source": [
    "from animal_behavior_technicals.utils import get_region\n",
    "get_region(-18)"
   ]
  },
  {
   "cell_type": "markdown",
   "id": "5d04b20f",
   "metadata": {},
   "source": [
    "We can clearly see if a longitude has a positive value, then it is marked as East. If it has a negative value, it is marked as West."
   ]
  },
  {
   "cell_type": "code",
   "execution_count": 16,
   "id": "fac56684",
   "metadata": {},
   "outputs": [],
   "source": [
    "import tests_anibeh"
   ]
  },
  {
   "cell_type": "code",
   "execution_count": 17,
   "id": "76150381",
   "metadata": {},
   "outputs": [],
   "source": [
    "from tests_anibeh.test_utils import test_get_region "
   ]
  },
  {
   "cell_type": "markdown",
   "id": "4af14e49",
   "metadata": {},
   "source": [
    "test_get_region() is the corresponding test for this function. The tests file can be run entirely to obtain the output"
   ]
  }
 ],
 "metadata": {
  "kernelspec": {
   "display_name": "Python 3 (ipykernel)",
   "language": "python",
   "name": "python3"
  },
  "language_info": {
   "codemirror_mode": {
    "name": "ipython",
    "version": 3
   },
   "file_extension": ".py",
   "mimetype": "text/x-python",
   "name": "python",
   "nbconvert_exporter": "python",
   "pygments_lexer": "ipython3",
   "version": "3.7.4"
  }
 },
 "nbformat": 4,
 "nbformat_minor": 5
}
