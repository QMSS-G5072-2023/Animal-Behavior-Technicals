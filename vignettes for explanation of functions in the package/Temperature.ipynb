{
 "cells": [
  {
   "cell_type": "code",
   "execution_count": 5,
   "id": "64b05371",
   "metadata": {},
   "outputs": [],
   "source": [
    "import animal_behavior_technicals"
   ]
  },
  {
   "cell_type": "code",
   "execution_count": 6,
   "id": "a10914c5",
   "metadata": {},
   "outputs": [
    {
     "data": {
      "text/plain": [
       "'C:\\\\Users\\\\arush'"
      ]
     },
     "execution_count": 6,
     "metadata": {},
     "output_type": "execute_result"
    }
   ],
   "source": [
    "import os\n",
    "os.getcwd()"
   ]
  },
  {
   "cell_type": "code",
   "execution_count": 7,
   "id": "a6000063",
   "metadata": {},
   "outputs": [],
   "source": [
    "os.chdir('C:\\\\Users\\\\arush\\\\animal_behavior_technicals')"
   ]
  },
  {
   "cell_type": "markdown",
   "id": "d78a6a08",
   "metadata": {},
   "source": [
    "## Using the created functions:"
   ]
  },
  {
   "cell_type": "markdown",
   "id": "dcba1614",
   "metadata": {},
   "source": [
    "The below function uses the eobs_temperature attribute to determine the output of the function. (It needs eobs_temperature as its input)\n",
    "\n",
    "Units: degrees Celsius\n",
    "\n",
    "Entity described: event\n",
    "\n",
    "URI: http://vocab.nerc.ac.uk/collection/MVB/current/MVB000099"
   ]
  },
  {
   "cell_type": "markdown",
   "id": "e2919dd8",
   "metadata": {},
   "source": [
    "### Eobs temperature has been divided into sub-categories where above 35 is considered high temperature.\n"
   ]
  },
  {
   "cell_type": "code",
   "execution_count": 8,
   "id": "77e2be69",
   "metadata": {},
   "outputs": [
    {
     "data": {
      "text/plain": [
       "False"
      ]
     },
     "execution_count": 8,
     "metadata": {},
     "output_type": "execute_result"
    }
   ],
   "source": [
    "from animal_behavior_technicals.utils import is_high_temperature\n",
    "is_high_temperature(29)"
   ]
  },
  {
   "cell_type": "code",
   "execution_count": 9,
   "id": "c30ae445",
   "metadata": {},
   "outputs": [
    {
     "data": {
      "text/plain": [
       "True"
      ]
     },
     "execution_count": 9,
     "metadata": {},
     "output_type": "execute_result"
    }
   ],
   "source": [
    "from animal_behavior_technicals.utils import is_high_temperature\n",
    "is_high_temperature(39)"
   ]
  },
  {
   "cell_type": "code",
   "execution_count": 10,
   "id": "b6c3b43c",
   "metadata": {},
   "outputs": [],
   "source": [
    "import tests_anibeh"
   ]
  },
  {
   "cell_type": "markdown",
   "id": "64edac52",
   "metadata": {},
   "source": [
    "test_is_high_temperature() is the corresponding test for this function. The tests file can be run entirely to obtain the output"
   ]
  },
  {
   "cell_type": "markdown",
   "id": "d3ce97ee",
   "metadata": {},
   "source": [
    "### Eobs temperature has been divided into sub-categories where below 3 is considered low temperature.\n"
   ]
  },
  {
   "cell_type": "code",
   "execution_count": 13,
   "id": "4b2b4638",
   "metadata": {},
   "outputs": [
    {
     "data": {
      "text/plain": [
       "False"
      ]
     },
     "execution_count": 13,
     "metadata": {},
     "output_type": "execute_result"
    }
   ],
   "source": [
    "from animal_behavior_technicals.utils import is_low_temperature\n",
    "is_low_temperature(10)"
   ]
  },
  {
   "cell_type": "code",
   "execution_count": 14,
   "id": "c1e31697",
   "metadata": {},
   "outputs": [
    {
     "data": {
      "text/plain": [
       "True"
      ]
     },
     "execution_count": 14,
     "metadata": {},
     "output_type": "execute_result"
    }
   ],
   "source": [
    "is_low_temperature(1)"
   ]
  },
  {
   "cell_type": "markdown",
   "id": "bdb17377",
   "metadata": {},
   "source": [
    "test_is_low_temperature() is the corresponding test for this function. The tests file can be run entirely to obtain the output"
   ]
  }
 ],
 "metadata": {
  "kernelspec": {
   "display_name": "Python 3 (ipykernel)",
   "language": "python",
   "name": "python3"
  },
  "language_info": {
   "codemirror_mode": {
    "name": "ipython",
    "version": 3
   },
   "file_extension": ".py",
   "mimetype": "text/x-python",
   "name": "python",
   "nbconvert_exporter": "python",
   "pygments_lexer": "ipython3",
   "version": "3.7.4"
  }
 },
 "nbformat": 4,
 "nbformat_minor": 5
}
